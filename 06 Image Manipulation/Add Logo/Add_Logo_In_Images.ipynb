{
 "cells": [
  {
   "cell_type": "code",
   "execution_count": 1,
   "metadata": {},
   "outputs": [],
   "source": [
    "from PIL import Image\n",
    "import os"
   ]
  },
  {
   "cell_type": "code",
   "execution_count": 2,
   "metadata": {},
   "outputs": [],
   "source": [
    "#Logo destination\n",
    "logo_dest = \"C:\\\\Users\\Promech-PC-5\\Desktop\" #Source path of your logo"
   ]
  },
  {
   "cell_type": "code",
   "execution_count": 3,
   "metadata": {},
   "outputs": [],
   "source": [
    "#Change directory to the logo destination\n",
    "os.chdir(logo_dest)"
   ]
  },
  {
   "cell_type": "code",
   "execution_count": 4,
   "metadata": {},
   "outputs": [],
   "source": [
    "#Open logo image\n",
    "logo = Image.open(\"firebird.png\")"
   ]
  },
  {
   "cell_type": "code",
   "execution_count": 5,
   "metadata": {},
   "outputs": [],
   "source": [
    "#Images destination (Images in which we are going to add logo)\n",
    "img_source = \"C:\\\\Users\\Promech-PC-5\\Desktop\\WallpaperPC\""
   ]
  },
  {
   "cell_type": "code",
   "execution_count": 6,
   "metadata": {},
   "outputs": [],
   "source": [
    "#Change directory to the images destination\n",
    "os.chdir(img_source)"
   ]
  },
  {
   "cell_type": "code",
   "execution_count": 7,
   "metadata": {},
   "outputs": [],
   "source": [
    "for i, img in enumerate(os.listdir()):\n",
    "    #Open each image\n",
    "    im = Image.open(img)\n",
    "    #Resizing logo according to size of image\n",
    "    basewidth = int(im.size[0]/10)\n",
    "    wpercent = (basewidth/float(logo.size[0]))\n",
    "    hsize = int(float(logo.size[1])*float(wpercent))\n",
    "    logo = logo.resize((basewidth, hsize), Image.ANTIALIAS)\n",
    "    \n",
    "    #Checking whethe all files are images or not.\n",
    "    ext = img.split(\".\")[-1]\n",
    "    valid_ext = [\"jpg\", \"png\", \"svg\", \"jpeg\", \"gif\"]\n",
    "    if ext.lower() in valid_ext:\n",
    "        #Area of image, where we add the logo. Here it is top right corner\n",
    "        position = (int(im.size[0]-logo.size[0]),0)\n",
    "        #Pasting logo over image\n",
    "        im.paste(logo, position)\n",
    "        #Saving the image with logo with new name in new folder\n",
    "        im.save(\"C:\\\\Users\\Promech-PC-5\\Desktop\\WallpaperPCwithLogo\"+\"/Image\"+str(i)+\".\"+ ext)"
   ]
  },
  {
   "cell_type": "code",
   "execution_count": null,
   "metadata": {},
   "outputs": [],
   "source": []
  }
 ],
 "metadata": {
  "kernelspec": {
   "display_name": "Python 3",
   "language": "python",
   "name": "python3"
  },
  "language_info": {
   "codemirror_mode": {
    "name": "ipython",
    "version": 3
   },
   "file_extension": ".py",
   "mimetype": "text/x-python",
   "name": "python",
   "nbconvert_exporter": "python",
   "pygments_lexer": "ipython3",
   "version": "3.7.3"
  }
 },
 "nbformat": 4,
 "nbformat_minor": 2
}
